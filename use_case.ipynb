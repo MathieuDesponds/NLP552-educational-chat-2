{
 "cells": [
  {
   "attachments": {},
   "cell_type": "markdown",
   "metadata": {},
   "source": [
    "# Use case to create a Reward model, use it and save it"
   ]
  },
  {
   "cell_type": "code",
   "execution_count": 1,
   "metadata": {},
   "outputs": [
    {
     "name": "stderr",
     "output_type": "stream",
     "text": [
      "c:\\Users\\antom\\miniconda3\\lib\\site-packages\\pandas\\core\\computation\\expressions.py:20: UserWarning: Pandas requires version '2.7.3' or newer of 'numexpr' (version '2.7.1' currently installed).\n",
      "  from pandas.core.computation.check import NUMEXPR_INSTALLED\n"
     ]
    }
   ],
   "source": [
    "from train_utils import (load_data, prepare_single_dataset)\n",
    "from model import (RewardModel, RewardModelConfig)\n",
    "from transformers import RobertaTokenizer\n",
    "import pandas as pd\n",
    "import seaborn as sns\n",
    "from matplotlib import pyplot as plt\n",
    "import torch\n",
    "from transformers import AutoTokenizer, AutoModel, AutoConfig"
   ]
  },
  {
   "attachments": {},
   "cell_type": "markdown",
   "metadata": {},
   "source": [
    "### Creating the blank reward model :"
   ]
  },
  {
   "cell_type": "code",
   "execution_count": null,
   "metadata": {},
   "outputs": [],
   "source": [
    "model_name = \"smallbenchnlp/roberta-small\"\n",
    "\n",
    "tokenizer = RobertaTokenizer.from_pretrained(model_name)\n",
    "\n",
    "reward_model_config = RewardModelConfig(lm_base=\"roberta-base\", hidden_dims=[64, 128, 32], activations=[\"relu\", \"relu\", \"relu\"])\n",
    "reward_model = RewardModel(reward_model_config)"
   ]
  },
  {
   "attachments": {},
   "cell_type": "markdown",
   "metadata": {},
   "source": [
    "### Save the model"
   ]
  },
  {
   "cell_type": "code",
   "execution_count": null,
   "metadata": {},
   "outputs": [],
   "source": [
    "reward_model_config.save_pretrained(\"models_TEST\")\n",
    "reward_model.save_pretrained(\"models_TEST\")\n",
    "tokenizer.save_pretrained(\"models_TEST\")"
   ]
  },
  {
   "attachments": {},
   "cell_type": "markdown",
   "metadata": {},
   "source": [
    "### Use the model"
   ]
  },
  {
   "cell_type": "code",
   "execution_count": null,
   "metadata": {},
   "outputs": [],
   "source": [
    "text = \"I am strong\"\n",
    "inp = torch.tensor([tokenizer.encode(text, truncation=True, padding='max_length', max_length=512)])\n",
    "print(\"1) RESULT : \", reward_model(inp))"
   ]
  },
  {
   "attachments": {},
   "cell_type": "markdown",
   "metadata": {},
   "source": [
    "### Load the model"
   ]
  },
  {
   "cell_type": "code",
   "execution_count": null,
   "metadata": {},
   "outputs": [],
   "source": [
    "AutoConfig.register('RewardModel', RewardModelConfig)\n",
    "AutoModel.register(RewardModelConfig, RewardModel)\n",
    "tokenizer = AutoTokenizer.from_pretrained(\"models_TEST\")\n",
    "config = AutoConfig.from_pretrained(\"models_TEST\")\n",
    "model = AutoModel.from_pretrained(\"models_TEST\", config=config)"
   ]
  },
  {
   "cell_type": "code",
   "execution_count": 3,
   "metadata": {},
   "outputs": [
    {
     "data": {
      "text/plain": [
       "dict_keys(['test', 'eval', 'train'])"
      ]
     },
     "execution_count": 3,
     "metadata": {},
     "output_type": "execute_result"
    }
   ],
   "source": [
    "load_data(\"reward_model_v3_1000_neg.json\").keys()"
   ]
  },
  {
   "attachments": {},
   "cell_type": "markdown",
   "metadata": {},
   "source": [
    "#### Analyzing results\n",
    "\n",
    "We produced result using the `train.py` script on GCP and evaluated the model using the `evaluate_model.py` script and we got this : \n",
    "\n",
    "- The average value of the differences between $Y^+$ rewards and $Y^-$ rewards:  5.73442497056276\n",
    "- The std of the differences between $Y^+$ rewards and $Y^-$ rewards:  0.8848593429723259\n",
    "- Proportion of correct order $Y^+$ and $Y^-$ : 0.9767441860465116\n",
    "\n",
    "The models was load as follows :"
   ]
  },
  {
   "cell_type": "code",
   "execution_count": null,
   "metadata": {},
   "outputs": [],
   "source": [
    "from train_utils import (prepare_single_dataset, load_data)\n",
    "from model import (RewardModelConfig, RewardModel)\n",
    "from transformers import (AutoConfig, AutoModel, AutoTokenizer)\n",
    "\n",
    "\n",
    "path = \"models_hf/checkpoint-1589/\"\n",
    "\n",
    "device = torch.device(\"cuda:0\" if torch.cuda.is_available() else \"cpu\")\n",
    "print(\"Running on device : \", device)\n",
    "\n",
    "AutoConfig.register('RewardModel', RewardModelConfig)\n",
    "AutoModel.register(RewardModelConfig, RewardModel)\n",
    "tokenizer = AutoTokenizer.from_pretrained(path)\n",
    "config = AutoConfig.from_pretrained(path)\n",
    "model = AutoModel.from_pretrained(path, config=config).to(device)\n",
    "\n",
    "\n",
    "test_dataset = prepare_single_dataset(load_data(\"reward_model_v3_1000_neg.json\")[\"test\"], tokenizer)"
   ]
  },
  {
   "attachments": {},
   "cell_type": "markdown",
   "metadata": {},
   "source": [
    "We loaded the dataset annotated with the model `models_hf/checkpoint-1586` and analyze the resuts:"
   ]
  },
  {
   "cell_type": "code",
   "execution_count": 2,
   "metadata": {},
   "outputs": [
    {
     "name": "stdout",
     "output_type": "stream",
     "text": [
      "number of annaoted test samples :  1641\n"
     ]
    },
    {
     "data": {
      "text/plain": [
       "{'y_plus': '<s>[CLS] Would you describe this learning procedure as reinforcement, supervised or unsupervised learning?0) It is supervised, since we explicitely provide the correct weights to initialize the network. 1) It is unsupervised since the network learns implicit associations present in the input without any additional teaching signal. 2) It is reinforcement learning since only weight updates only occur when a pattern is retrieved correctly. [SEP] The question is asking to identify the type of learning procedure based on a given description. \\n\\nDefinitions:\\n- Reinforcement Learning: A type of machine learning where an agent learns to behave in an environment by performing certain actions and receiving rewards or punishments.\\n- Supervised Learning: A type of machine learning where the algorithm learns from labeled data, where the correct output is provided for each input.\\n- Unsupervised Learning: A type of machine learning where the algorithm learns patterns in data without being given explicit labels.\\n\\nAnswer #1: \"It is supervised, since we explicitely provide the correct weights to initialize the network.\" : False. The fact that the correct weights are provided to initialize the network does not necessarily mean that the learning procedure is supervised. Supervised learning implies that the correct output is provided for each input, which is not the case here.\\n\\nAnswer #2: \"It is unsupervised since the network learns implicit associations present in the input without any additional teaching signal.\" : False. While it is true that the network is learning without any additional teaching signal, the fact that it is learning implicit associations does not necessarily make it unsupervised learning. \\n\\nAnswer #3: \"It is reinforcement learning since only weight updates only occur when a pattern is retrieved correctly.\" : False. Reinforcement learning involves an agent learning by receiving rewards or punishments, which is not mentioned in the description. \\n\\nTherefore, none of the answers are completely correct. \\n\\nFinal Answer: There is no final answer that is true in any case.</s><pad><pad><pad><pad><pad><pad><pad><pad><pad><pad><pad><pad><pad><pad><pad><pad><pad><pad><pad><pad><pad><pad><pad><pad><pad><pad><pad><pad><pad><pad><pad><pad><pad><pad><pad><pad><pad><pad><pad><pad><pad><pad><pad><pad><pad><pad><pad><pad><pad><pad><pad><pad><pad><pad><pad><pad><pad><pad><pad><pad><pad><pad><pad><pad><pad><pad><pad><pad><pad><pad><pad><pad><pad><pad><pad><pad><pad><pad><pad><pad><pad><pad><pad><pad><pad><pad><pad><pad><pad><pad><pad><pad><pad><pad><pad><pad><pad><pad><pad><pad><pad>',\n",
       " 'y_minus': '<s>[CLS] Would you describe this learning procedure as reinforcement, supervised or unsupervised learning?0) It is supervised, since we explicitely provide the correct weights to initialize the network. 1) It is unsupervised since the network learns implicit associations present in the input without any additional teaching signal. 2) It is reinforcement learning since only weight updates only occur when a pattern is retrieved correctly. [SEP] Solution 1: \"It is supervised, since we explicitly provide the correct weights to initialize the network.\" - This solution is false because providing correct weights for initialization does not necessarily mean that the learning procedure is supervised.\\n\\nSolution 2: \"It is unsupervised since the network learns implicit associations present in the input without any additional teaching signal.\" - This solution is also false because the learning procedure does not seem to learn implicit associations, but instead seems to involve some form of weight update based on pattern retrieval.\\n\\nSolution 3: \"It is reinforcement learning since only weight updates occur when a pattern is retrieved correctly.\" - This solution is true because the learning procedure involves weight updates that are contingent on the retrieval of correct patterns, which is a defining characteristic of reinforcement learning.\\n\\nTherefore, the final and unique answer that is true in any cases is Solution 3: \"It is reinforcement learning since only weight updates occur when a pattern is retrieved correctly.\".</s><pad><pad><pad><pad><pad><pad><pad><pad><pad><pad><pad><pad><pad><pad><pad><pad><pad><pad><pad><pad><pad><pad><pad><pad><pad><pad><pad><pad><pad><pad><pad><pad><pad><pad><pad><pad><pad><pad><pad><pad><pad><pad><pad><pad><pad><pad><pad><pad><pad><pad><pad><pad><pad><pad><pad><pad><pad><pad><pad><pad><pad><pad><pad><pad><pad><pad><pad><pad><pad><pad><pad><pad><pad><pad><pad><pad><pad><pad><pad><pad><pad><pad><pad><pad><pad><pad><pad><pad><pad><pad><pad><pad><pad><pad><pad><pad><pad><pad><pad><pad><pad><pad><pad><pad><pad><pad><pad><pad><pad><pad><pad><pad><pad><pad><pad><pad><pad><pad><pad><pad><pad><pad><pad><pad><pad><pad><pad><pad><pad><pad><pad><pad><pad><pad><pad><pad><pad><pad><pad><pad><pad><pad><pad><pad><pad><pad><pad><pad><pad><pad><pad><pad><pad><pad><pad><pad><pad><pad><pad><pad><pad><pad><pad><pad><pad><pad><pad><pad><pad><pad><pad><pad><pad><pad><pad><pad><pad><pad><pad><pad><pad><pad><pad><pad><pad><pad><pad><pad><pad><pad><pad><pad><pad><pad><pad><pad><pad><pad><pad><pad><pad><pad><pad><pad><pad><pad><pad><pad><pad><pad><pad><pad><pad><pad><pad><pad><pad><pad><pad><pad><pad><pad><pad><pad><pad><pad><pad><pad><pad><pad><pad><pad>',\n",
       " 'y_plus_reward': 1.94138765335083,\n",
       " 'y_minus_reward': -4.8616461753845215}"
      ]
     },
     "execution_count": 2,
     "metadata": {},
     "output_type": "execute_result"
    }
   ],
   "source": [
    "\n",
    "annot = load_data(\"annotations/res_on_checkpoint-4785.json\")\n",
    "print(\"number of annaoted test samples : \", len(annot))\n",
    "\n",
    "metrics = annot[0]\n",
    "annot = annot[1:]\n",
    "annot[0]"
   ]
  },
  {
   "cell_type": "code",
   "execution_count": 3,
   "metadata": {},
   "outputs": [
    {
     "data": {
      "text/html": [
       "<div>\n",
       "<style scoped>\n",
       "    .dataframe tbody tr th:only-of-type {\n",
       "        vertical-align: middle;\n",
       "    }\n",
       "\n",
       "    .dataframe tbody tr th {\n",
       "        vertical-align: top;\n",
       "    }\n",
       "\n",
       "    .dataframe thead th {\n",
       "        text-align: right;\n",
       "    }\n",
       "</style>\n",
       "<table border=\"1\" class=\"dataframe\">\n",
       "  <thead>\n",
       "    <tr style=\"text-align: right;\">\n",
       "      <th></th>\n",
       "      <th>y_plus</th>\n",
       "      <th>y_minus</th>\n",
       "      <th>y_plus_reward</th>\n",
       "      <th>y_minus_reward</th>\n",
       "    </tr>\n",
       "  </thead>\n",
       "  <tbody>\n",
       "    <tr>\n",
       "      <th>0</th>\n",
       "      <td>&lt;s&gt;[CLS] Would you describe this learning proc...</td>\n",
       "      <td>&lt;s&gt;[CLS] Would you describe this learning proc...</td>\n",
       "      <td>1.941388</td>\n",
       "      <td>-4.861646</td>\n",
       "    </tr>\n",
       "    <tr>\n",
       "      <th>1</th>\n",
       "      <td>&lt;s&gt;[CLS] Where is hydrogen magnetization measu...</td>\n",
       "      <td>&lt;s&gt;[CLS] Where is hydrogen magnetization measu...</td>\n",
       "      <td>1.915248</td>\n",
       "      <td>-4.856126</td>\n",
       "    </tr>\n",
       "    <tr>\n",
       "      <th>2</th>\n",
       "      <td>&lt;s&gt;[CLS] Can there be a race condition in a mu...</td>\n",
       "      <td>&lt;s&gt;[CLS] Can there be a race condition in a mu...</td>\n",
       "      <td>1.936780</td>\n",
       "      <td>-4.861746</td>\n",
       "    </tr>\n",
       "    <tr>\n",
       "      <th>3</th>\n",
       "      <td>&lt;s&gt;[CLS] Soient \\(V=\\mathbb{P}_{6}(\\mathbb{R})...</td>\n",
       "      <td>&lt;s&gt;[CLS] Soient \\(V=\\mathbb{P}_{6}(\\mathbb{R})...</td>\n",
       "      <td>1.545948</td>\n",
       "      <td>-4.841226</td>\n",
       "    </tr>\n",
       "    <tr>\n",
       "      <th>4</th>\n",
       "      <td>&lt;s&gt;[CLS] You are using a fully-connected neura...</td>\n",
       "      <td>&lt;s&gt;[CLS] You are using a fully-connected neura...</td>\n",
       "      <td>1.931617</td>\n",
       "      <td>-4.863757</td>\n",
       "    </tr>\n",
       "  </tbody>\n",
       "</table>\n",
       "</div>"
      ],
      "text/plain": [
       "                                              y_plus  \\\n",
       "0  <s>[CLS] Would you describe this learning proc...   \n",
       "1  <s>[CLS] Where is hydrogen magnetization measu...   \n",
       "2  <s>[CLS] Can there be a race condition in a mu...   \n",
       "3  <s>[CLS] Soient \\(V=\\mathbb{P}_{6}(\\mathbb{R})...   \n",
       "4  <s>[CLS] You are using a fully-connected neura...   \n",
       "\n",
       "                                             y_minus  y_plus_reward  \\\n",
       "0  <s>[CLS] Would you describe this learning proc...       1.941388   \n",
       "1  <s>[CLS] Where is hydrogen magnetization measu...       1.915248   \n",
       "2  <s>[CLS] Can there be a race condition in a mu...       1.936780   \n",
       "3  <s>[CLS] Soient \\(V=\\mathbb{P}_{6}(\\mathbb{R})...       1.545948   \n",
       "4  <s>[CLS] You are using a fully-connected neura...       1.931617   \n",
       "\n",
       "   y_minus_reward  \n",
       "0       -4.861646  \n",
       "1       -4.856126  \n",
       "2       -4.861746  \n",
       "3       -4.841226  \n",
       "4       -4.863757  "
      ]
     },
     "execution_count": 3,
     "metadata": {},
     "output_type": "execute_result"
    }
   ],
   "source": [
    "annot_df = pd.DataFrame(annot)\n",
    "annot_df.head()"
   ]
  },
  {
   "cell_type": "code",
   "execution_count": 4,
   "metadata": {},
   "outputs": [],
   "source": [
    "def merge_in_one(full_annot):\n",
    "    df_plus = full_annot[[\"y_plus\", \"y_plus_reward\"]]\n",
    "    df_plus.columns = [\"y\", \"reward\"]\n",
    "    df_plus[\"type\"] = \"$Y_+$\"\n",
    "    df_minus = full_annot[[\"y_minus\", \"y_minus_reward\"]]\n",
    "    df_minus.columns = [\"y\", \"reward\"]\n",
    "    df_minus[\"type\"] = \"$Y_-$\"\n",
    "    all_reward = pd.concat([df_plus, df_minus], axis=0).reset_index()\n",
    "    return all_reward"
   ]
  },
  {
   "cell_type": "code",
   "execution_count": 5,
   "metadata": {},
   "outputs": [
    {
     "name": "stderr",
     "output_type": "stream",
     "text": [
      "<ipython-input-4-f2e0e56fe7ee>:4: SettingWithCopyWarning: \n",
      "A value is trying to be set on a copy of a slice from a DataFrame.\n",
      "Try using .loc[row_indexer,col_indexer] = value instead\n",
      "\n",
      "See the caveats in the documentation: https://pandas.pydata.org/pandas-docs/stable/user_guide/indexing.html#returning-a-view-versus-a-copy\n",
      "  df_plus[\"type\"] = \"$Y_+$\"\n",
      "<ipython-input-4-f2e0e56fe7ee>:7: SettingWithCopyWarning: \n",
      "A value is trying to be set on a copy of a slice from a DataFrame.\n",
      "Try using .loc[row_indexer,col_indexer] = value instead\n",
      "\n",
      "See the caveats in the documentation: https://pandas.pydata.org/pandas-docs/stable/user_guide/indexing.html#returning-a-view-versus-a-copy\n",
      "  df_minus[\"type\"] = \"$Y_-$\"\n"
     ]
    },
    {
     "data": {
      "image/png": "[encoded data removed]",
      "text/plain": [
       "<Figure size 720x432 with 1 Axes>"
      ]
     },
     "metadata": {
      "needs_background": "light"
     },
     "output_type": "display_data"
    }
   ],
   "source": [
    "f = plt.figure(figsize=(10, 6))\n",
    "g = sns.histplot(data=merge_in_one(annot_df), x=\"reward\", hue=\"type\", binwidth=0.3)\n",
    "# g.set_yscale(\"log\")\n",
    "g.set_title(\"Distribution of reward for both type of answers ($Y_+$ and $Y_-$)\")\n",
    "g.set_ylabel(\"Number of $Y$\")\n",
    "g.set_xlabel(\"$R(Y)$\");"
   ]
  },
  {
   "cell_type": "code",
   "execution_count": 6,
   "metadata": {},
   "outputs": [
    {
     "data": {
      "text/plain": [
       "Text(0.5, 0, '$R(R_+) - R(Y_-)$')"
      ]
     },
     "execution_count": 6,
     "metadata": {},
     "output_type": "execute_result"
    },
    {
     "data": {
      "image/png": "[encoded data removed]",
      "text/plain": [
       "<Figure size 432x288 with 1 Axes>"
      ]
     },
     "metadata": {
      "needs_background": "light"
     },
     "output_type": "display_data"
    }
   ],
   "source": [
    "annot_df[\"diff\"] = annot_df[\"y_plus_reward\"] - annot_df[\"y_minus_reward\"]\n",
    "dg = sns.histplot(data=annot_df, x=\"diff\", binwidth=0.5)\n",
    "dg.set_title(\"Distribution of the signed difference between $R(R_+)$ and $R(Y_-)$\")\n",
    "dg.set_ylabel(\"Number of samples\")\n",
    "dg.set_xlabel(\"$R(R_+) - R(Y_-)$\")"
   ]
  }
 ],
 "metadata": {
  "kernelspec": {
   "display_name": "base",
   "language": "python",
   "name": "python3"
  },
  "language_info": {
   "codemirror_mode": {
    "name": "ipython",
    "version": 3
   },
   "file_extension": ".py",
   "mimetype": "text/x-python",
   "name": "python",
   "nbconvert_exporter": "python",
   "pygments_lexer": "ipython3",
   "version": "3.8.5"
  },
  "orig_nbformat": 4
 },
 "nbformat": 4,
 "nbformat_minor": 2
}
